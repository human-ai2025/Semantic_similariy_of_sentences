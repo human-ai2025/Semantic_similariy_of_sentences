{
  "nbformat": 4,
  "nbformat_minor": 0,
  "metadata": {
    "colab": {
      "name": "5_ML_modelsLOGISTICREGRESSION.ipynb",
      "provenance": [],
      "collapsed_sections": []
    },
    "kernelspec": {
      "display_name": "Python 3",
      "language": "python",
      "name": "python3"
    }
  },
  "cells": [
    {
      "cell_type": "markdown",
      "metadata": {
        "id": "_Lpu8rSvL9Yy"
      },
      "source": [
        "## Importing Libraries"
      ]
    },
    {
      "cell_type": "code",
      "metadata": {
        "id": "6VXPfRp-tARR"
      },
      "source": [
        "#importing libraries\n",
        "import pandas as pd\n",
        "import matplotlib.pyplot as plt\n",
        "import re\n",
        "import time\n",
        "import warnings\n",
        "import sqlite3\n",
        "from sqlalchemy import create_engine # database connection\n",
        "import csv\n",
        "import os\n",
        "warnings.filterwarnings(\"ignore\")\n",
        "import datetime as dt\n",
        "import numpy as np\n",
        "from nltk.corpus import stopwords\n",
        "from sklearn.decomposition import TruncatedSVD\n",
        "from sklearn.preprocessing import normalize\n",
        "from sklearn.feature_extraction.text import CountVectorizer\n",
        "from sklearn.manifold import TSNE\n",
        "import seaborn as sns\n",
        "from sklearn.neighbors import KNeighborsClassifier\n",
        "from sklearn.metrics import confusion_matrix\n",
        "from sklearn.metrics.classification import accuracy_score, log_loss\n",
        "from sklearn.feature_extraction.text import TfidfVectorizer\n",
        "from collections import Counter\n",
        "from scipy.sparse import hstack\n",
        "from sklearn.multiclass import OneVsRestClassifier\n",
        "from sklearn.svm import SVC\n",
        "from sklearn.model_selection import StratifiedKFold \n",
        "from collections import Counter, defaultdict\n",
        "from sklearn.calibration import CalibratedClassifierCV\n",
        "from sklearn.naive_bayes import MultinomialNB\n",
        "from sklearn.naive_bayes import GaussianNB\n",
        "from sklearn.model_selection import train_test_split\n",
        "from sklearn.model_selection import GridSearchCV\n",
        "import math\n",
        "from sklearn.metrics import normalized_mutual_info_score\n",
        "from sklearn.ensemble import RandomForestClassifier\n",
        "from sklearn.model_selection import cross_val_score\n",
        "from sklearn.linear_model import SGDClassifier\n",
        "from mlxtend.classifier import StackingClassifier\n",
        "\n",
        "from sklearn import model_selection\n",
        "from sklearn.linear_model import LogisticRegression\n",
        "from sklearn.metrics import precision_recall_curve, auc, roc_curve"
      ],
      "execution_count": 1,
      "outputs": []
    },
    {
      "cell_type": "markdown",
      "metadata": {
        "id": "ZihvUPvHtARd"
      },
      "source": [
        "<h1>4. Machine Learning Models </h1>"
      ]
    },
    {
      "cell_type": "code",
      "metadata": {
        "colab": {
          "base_uri": "https://localhost:8080/"
        },
        "id": "ue02gI8Yws6R",
        "outputId": "3d183c15-fd79-4ebd-8fd0-c4cb4a00b6d7"
      },
      "source": [
        "##mount drive for data\r\n",
        "from google.colab import drive\r\n",
        "drive.mount('/content/drive')"
      ],
      "execution_count": 11,
      "outputs": [
        {
          "output_type": "stream",
          "text": [
            "Drive already mounted at /content/drive; to attempt to forcibly remount, call drive.mount(\"/content/drive\", force_remount=True).\n"
          ],
          "name": "stdout"
        }
      ]
    },
    {
      "cell_type": "code",
      "metadata": {
        "id": "gdNSPzoSw5Dy"
      },
      "source": [
        "#setup the path\r\n",
        "%cd /content/drive/MyDrive/Quora"
      ],
      "execution_count": null,
      "outputs": []
    },
    {
      "cell_type": "markdown",
      "metadata": {
        "id": "CtN9VBPutARf"
      },
      "source": [
        "<h2> 4.1 Reading data from file and storing into sql table </h2>"
      ]
    },
    {
      "cell_type": "code",
      "metadata": {
        "id": "owBQdjY1tARh"
      },
      "source": [
        "#Creating db file from csv\n",
        "if not os.path.isfile('train.db'):\n",
        "    disk_engine = create_engine('sqlite:///train.db')\n",
        "    start = dt.datetime.now()\n",
        "    chunksize = 180000\n",
        "    j = 0\n",
        "    index_start = 1\n",
        "    for df in pd.read_csv('final_features.csv', names=['Unnamed: 0','id','is_duplicate','cwc_min','cwc_max','csc_min','csc_max','ctc_min','ctc_max','last_word_eq','first_word_eq','abs_len_diff','mean_len','token_set_ratio','token_sort_ratio','fuzz_ratio','fuzz_partial_ratio','longest_substr_ratio','freq_qid1','freq_qid2','q1len','q2len','q1_n_words','q2_n_words','word_Common','word_Total','word_share','freq_q1+q2','freq_q1-q2','0_x','1_x','2_x','3_x','4_x','5_x','6_x','7_x','8_x','9_x','10_x','11_x','12_x','13_x','14_x','15_x','16_x','17_x','18_x','19_x','20_x','21_x','22_x','23_x','24_x','25_x','26_x','27_x','28_x','29_x','30_x','31_x','32_x','33_x','34_x','35_x','36_x','37_x','38_x','39_x','40_x','41_x','42_x','43_x','44_x','45_x','46_x','47_x','48_x','49_x','50_x','51_x','52_x','53_x','54_x','55_x','56_x','57_x','58_x','59_x','60_x','61_x','62_x','63_x','64_x','65_x','66_x','67_x','68_x','69_x','70_x','71_x','72_x','73_x','74_x','75_x','76_x','77_x','78_x','79_x','80_x','81_x','82_x','83_x','84_x','85_x','86_x','87_x','88_x','89_x','90_x','91_x','92_x','93_x','94_x','95_x','96_x','97_x','98_x','99_x','100_x','101_x','102_x','103_x','104_x','105_x','106_x','107_x','108_x','109_x','110_x','111_x','112_x','113_x','114_x','115_x','116_x','117_x','118_x','119_x','120_x','121_x','122_x','123_x','124_x','125_x','126_x','127_x','128_x','129_x','130_x','131_x','132_x','133_x','134_x','135_x','136_x','137_x','138_x','139_x','140_x','141_x','142_x','143_x','144_x','145_x','146_x','147_x','148_x','149_x','150_x','151_x','152_x','153_x','154_x','155_x','156_x','157_x','158_x','159_x','160_x','161_x','162_x','163_x','164_x','165_x','166_x','167_x','168_x','169_x','170_x','171_x','172_x','173_x','174_x','175_x','176_x','177_x','178_x','179_x','180_x','181_x','182_x','183_x','184_x','185_x','186_x','187_x','188_x','189_x','190_x','191_x','192_x','193_x','194_x','195_x','196_x','197_x','198_x','199_x','200_x','201_x','202_x','203_x','204_x','205_x','206_x','207_x','208_x','209_x','210_x','211_x','212_x','213_x','214_x','215_x','216_x','217_x','218_x','219_x','220_x','221_x','222_x','223_x','224_x','225_x','226_x','227_x','228_x','229_x','230_x','231_x','232_x','233_x','234_x','235_x','236_x','237_x','238_x','239_x','240_x','241_x','242_x','243_x','244_x','245_x','246_x','247_x','248_x','249_x','250_x','251_x','252_x','253_x','254_x','255_x','256_x','257_x','258_x','259_x','260_x','261_x','262_x','263_x','264_x','265_x','266_x','267_x','268_x','269_x','270_x','271_x','272_x','273_x','274_x','275_x','276_x','277_x','278_x','279_x','280_x','281_x','282_x','283_x','284_x','285_x','286_x','287_x','288_x','289_x','290_x','291_x','292_x','293_x','294_x','295_x','296_x','297_x','298_x','299_x','300_x','301_x','302_x','303_x','304_x','305_x','306_x','307_x','308_x','309_x','310_x','311_x','312_x','313_x','314_x','315_x','316_x','317_x','318_x','319_x','320_x','321_x','322_x','323_x','324_x','325_x','326_x','327_x','328_x','329_x','330_x','331_x','332_x','333_x','334_x','335_x','336_x','337_x','338_x','339_x','340_x','341_x','342_x','343_x','344_x','345_x','346_x','347_x','348_x','349_x','350_x','351_x','352_x','353_x','354_x','355_x','356_x','357_x','358_x','359_x','360_x','361_x','362_x','363_x','364_x','365_x','366_x','367_x','368_x','369_x','370_x','371_x','372_x','373_x','374_x','375_x','376_x','377_x','378_x','379_x','380_x','381_x','382_x','383_x','0_y','1_y','2_y','3_y','4_y','5_y','6_y','7_y','8_y','9_y','10_y','11_y','12_y','13_y','14_y','15_y','16_y','17_y','18_y','19_y','20_y','21_y','22_y','23_y','24_y','25_y','26_y','27_y','28_y','29_y','30_y','31_y','32_y','33_y','34_y','35_y','36_y','37_y','38_y','39_y','40_y','41_y','42_y','43_y','44_y','45_y','46_y','47_y','48_y','49_y','50_y','51_y','52_y','53_y','54_y','55_y','56_y','57_y','58_y','59_y','60_y','61_y','62_y','63_y','64_y','65_y','66_y','67_y','68_y','69_y','70_y','71_y','72_y','73_y','74_y','75_y','76_y','77_y','78_y','79_y','80_y','81_y','82_y','83_y','84_y','85_y','86_y','87_y','88_y','89_y','90_y','91_y','92_y','93_y','94_y','95_y','96_y','97_y','98_y','99_y','100_y','101_y','102_y','103_y','104_y','105_y','106_y','107_y','108_y','109_y','110_y','111_y','112_y','113_y','114_y','115_y','116_y','117_y','118_y','119_y','120_y','121_y','122_y','123_y','124_y','125_y','126_y','127_y','128_y','129_y','130_y','131_y','132_y','133_y','134_y','135_y','136_y','137_y','138_y','139_y','140_y','141_y','142_y','143_y','144_y','145_y','146_y','147_y','148_y','149_y','150_y','151_y','152_y','153_y','154_y','155_y','156_y','157_y','158_y','159_y','160_y','161_y','162_y','163_y','164_y','165_y','166_y','167_y','168_y','169_y','170_y','171_y','172_y','173_y','174_y','175_y','176_y','177_y','178_y','179_y','180_y','181_y','182_y','183_y','184_y','185_y','186_y','187_y','188_y','189_y','190_y','191_y','192_y','193_y','194_y','195_y','196_y','197_y','198_y','199_y','200_y','201_y','202_y','203_y','204_y','205_y','206_y','207_y','208_y','209_y','210_y','211_y','212_y','213_y','214_y','215_y','216_y','217_y','218_y','219_y','220_y','221_y','222_y','223_y','224_y','225_y','226_y','227_y','228_y','229_y','230_y','231_y','232_y','233_y','234_y','235_y','236_y','237_y','238_y','239_y','240_y','241_y','242_y','243_y','244_y','245_y','246_y','247_y','248_y','249_y','250_y','251_y','252_y','253_y','254_y','255_y','256_y','257_y','258_y','259_y','260_y','261_y','262_y','263_y','264_y','265_y','266_y','267_y','268_y','269_y','270_y','271_y','272_y','273_y','274_y','275_y','276_y','277_y','278_y','279_y','280_y','281_y','282_y','283_y','284_y','285_y','286_y','287_y','288_y','289_y','290_y','291_y','292_y','293_y','294_y','295_y','296_y','297_y','298_y','299_y','300_y','301_y','302_y','303_y','304_y','305_y','306_y','307_y','308_y','309_y','310_y','311_y','312_y','313_y','314_y','315_y','316_y','317_y','318_y','319_y','320_y','321_y','322_y','323_y','324_y','325_y','326_y','327_y','328_y','329_y','330_y','331_y','332_y','333_y','334_y','335_y','336_y','337_y','338_y','339_y','340_y','341_y','342_y','343_y','344_y','345_y','346_y','347_y','348_y','349_y','350_y','351_y','352_y','353_y','354_y','355_y','356_y','357_y','358_y','359_y','360_y','361_y','362_y','363_y','364_y','365_y','366_y','367_y','368_y','369_y','370_y','371_y','372_y','373_y','374_y','375_y','376_y','377_y','378_y','379_y','380_y','381_y','382_y','383_y'], chunksize=chunksize, iterator=True, encoding='utf-8', ):\n",
        "        df.index += index_start\n",
        "        j+=1\n",
        "        print('{} rows'.format(j*chunksize))\n",
        "        df.to_sql('data', disk_engine, if_exists='append')\n",
        "        index_start = df.index[-1] + 1"
      ],
      "execution_count": 3,
      "outputs": []
    },
    {
      "cell_type": "code",
      "metadata": {
        "id": "4hpD3aBktARn"
      },
      "source": [
        "#http://www.sqlitetutorial.net/sqlite-python/create-tables/\n",
        "def create_connection(db_file):\n",
        "    \"\"\" create a database connection to the SQLite database\n",
        "        specified by db_file\n",
        "    :param db_file: database file\n",
        "    :return: Connection object or None\n",
        "    \"\"\"\n",
        "    try:\n",
        "        conn = sqlite3.connect(db_file)\n",
        "        return conn\n",
        "    except Error as e:\n",
        "        print(e)\n",
        " \n",
        "    return None\n",
        "\n",
        "\n",
        "def checkTableExists(dbcon):\n",
        "    cursr = dbcon.cursor()\n",
        "    str = \"select name from sqlite_master where type='table'\"\n",
        "    table_names = cursr.execute(str)\n",
        "    print(\"Tables in the databse:\")\n",
        "    tables =table_names.fetchall() \n",
        "    print(tables[0][0])\n",
        "    return(len(tables))"
      ],
      "execution_count": 8,
      "outputs": []
    },
    {
      "cell_type": "code",
      "metadata": {
        "colab": {
          "base_uri": "https://localhost:8080/"
        },
        "id": "BsgAotdhy9HK",
        "outputId": "1a30ffa3-bb9e-40e2-c2d2-ba89459762e7"
      },
      "source": [
        "!ls"
      ],
      "execution_count": 14,
      "outputs": [
        {
          "output_type": "stream",
          "text": [
            "1.Quora.ipynb\t\t\t       final_features.rar\n",
            "2.Quora_Preprocessing.ipynb\t       nlp_features_train.csv\n",
            "3.Q_Mean_W2V.ipynb\t\t       train.csv\n",
            "4.ML_models.ipynb\t\t       train.db\n",
            "df_fe_without_preprocessing_train.csv  train_n.txt\n",
            "distance\t\t\t       train_p.txt\n",
            "Distance-0.1.3.tar.gz\t\t       wordcloud-1.3.3-cp36-cp36m-win_amd64.whl\n",
            "final_features.csv\n"
          ],
          "name": "stdout"
        }
      ]
    },
    {
      "cell_type": "code",
      "metadata": {
        "id": "nR8ZIUnttARs",
        "colab": {
          "base_uri": "https://localhost:8080/"
        },
        "outputId": "da67fa11-2d9c-41a9-a828-e8f38744c5e7"
      },
      "source": [
        "read_db = 'train.db'\n",
        "conn_r = create_connection(read_db)\n",
        "checkTableExists(conn_r)\n",
        "conn_r.close()"
      ],
      "execution_count": 15,
      "outputs": [
        {
          "output_type": "stream",
          "text": [
            "Tables in the databse:\n",
            "data\n"
          ],
          "name": "stdout"
        }
      ]
    },
    {
      "cell_type": "code",
      "metadata": {
        "id": "SZq5gaaztARy"
      },
      "source": [
        "# try to sample data according to the computing power you have\n",
        "if os.path.isfile(read_db):\n",
        "    conn_r = create_connection(read_db)\n",
        "    if conn_r is not None:\n",
        "        # for selecting first 1M rows\n",
        "        # data = pd.read_sql_query(\"\"\"SELECT * FROM data LIMIT 100001;\"\"\", conn_r)\n",
        "        \n",
        "        # for selecting random points\n",
        "        data = pd.read_sql_query(\"SELECT * From data ORDER BY RANDOM() LIMIT 100001;\", conn_r)\n",
        "        conn_r.commit()\n",
        "        conn_r.close()"
      ],
      "execution_count": 16,
      "outputs": []
    },
    {
      "cell_type": "code",
      "metadata": {
        "id": "ZkeBKktKtAR3"
      },
      "source": [
        "# remove the first row \n",
        "data.drop(data.index[0], inplace=True)\n",
        "y_true = data['is_duplicate']\n",
        "data.drop(['Unnamed: 0', 'id','index','is_duplicate'], axis=1, inplace=True)"
      ],
      "execution_count": 17,
      "outputs": []
    },
    {
      "cell_type": "code",
      "metadata": {
        "id": "QKSenpsmtAR9",
        "colab": {
          "base_uri": "https://localhost:8080/",
          "height": 256
        },
        "outputId": "b298a99b-805f-4c96-dd86-b2fd1fb4820d"
      },
      "source": [
        "data.head()"
      ],
      "execution_count": 19,
      "outputs": [
        {
          "output_type": "execute_result",
          "data": {
            "text/html": [
              "<div>\n",
              "<style scoped>\n",
              "    .dataframe tbody tr th:only-of-type {\n",
              "        vertical-align: middle;\n",
              "    }\n",
              "\n",
              "    .dataframe tbody tr th {\n",
              "        vertical-align: top;\n",
              "    }\n",
              "\n",
              "    .dataframe thead th {\n",
              "        text-align: right;\n",
              "    }\n",
              "</style>\n",
              "<table border=\"1\" class=\"dataframe\">\n",
              "  <thead>\n",
              "    <tr style=\"text-align: right;\">\n",
              "      <th></th>\n",
              "      <th>cwc_min</th>\n",
              "      <th>cwc_max</th>\n",
              "      <th>csc_min</th>\n",
              "      <th>csc_max</th>\n",
              "      <th>ctc_min</th>\n",
              "      <th>ctc_max</th>\n",
              "      <th>last_word_eq</th>\n",
              "      <th>first_word_eq</th>\n",
              "      <th>abs_len_diff</th>\n",
              "      <th>mean_len</th>\n",
              "      <th>token_set_ratio</th>\n",
              "      <th>token_sort_ratio</th>\n",
              "      <th>fuzz_ratio</th>\n",
              "      <th>fuzz_partial_ratio</th>\n",
              "      <th>longest_substr_ratio</th>\n",
              "      <th>freq_qid1</th>\n",
              "      <th>freq_qid2</th>\n",
              "      <th>q1len</th>\n",
              "      <th>q2len</th>\n",
              "      <th>q1_n_words</th>\n",
              "      <th>q2_n_words</th>\n",
              "      <th>word_Common</th>\n",
              "      <th>word_Total</th>\n",
              "      <th>word_share</th>\n",
              "      <th>freq_q1+q2</th>\n",
              "      <th>freq_q1-q2</th>\n",
              "      <th>0_x</th>\n",
              "      <th>1_x</th>\n",
              "      <th>2_x</th>\n",
              "      <th>3_x</th>\n",
              "      <th>4_x</th>\n",
              "      <th>5_x</th>\n",
              "      <th>6_x</th>\n",
              "      <th>7_x</th>\n",
              "      <th>8_x</th>\n",
              "      <th>9_x</th>\n",
              "      <th>10_x</th>\n",
              "      <th>11_x</th>\n",
              "      <th>12_x</th>\n",
              "      <th>13_x</th>\n",
              "      <th>...</th>\n",
              "      <th>344_y</th>\n",
              "      <th>345_y</th>\n",
              "      <th>346_y</th>\n",
              "      <th>347_y</th>\n",
              "      <th>348_y</th>\n",
              "      <th>349_y</th>\n",
              "      <th>350_y</th>\n",
              "      <th>351_y</th>\n",
              "      <th>352_y</th>\n",
              "      <th>353_y</th>\n",
              "      <th>354_y</th>\n",
              "      <th>355_y</th>\n",
              "      <th>356_y</th>\n",
              "      <th>357_y</th>\n",
              "      <th>358_y</th>\n",
              "      <th>359_y</th>\n",
              "      <th>360_y</th>\n",
              "      <th>361_y</th>\n",
              "      <th>362_y</th>\n",
              "      <th>363_y</th>\n",
              "      <th>364_y</th>\n",
              "      <th>365_y</th>\n",
              "      <th>366_y</th>\n",
              "      <th>367_y</th>\n",
              "      <th>368_y</th>\n",
              "      <th>369_y</th>\n",
              "      <th>370_y</th>\n",
              "      <th>371_y</th>\n",
              "      <th>372_y</th>\n",
              "      <th>373_y</th>\n",
              "      <th>374_y</th>\n",
              "      <th>375_y</th>\n",
              "      <th>376_y</th>\n",
              "      <th>377_y</th>\n",
              "      <th>378_y</th>\n",
              "      <th>379_y</th>\n",
              "      <th>380_y</th>\n",
              "      <th>381_y</th>\n",
              "      <th>382_y</th>\n",
              "      <th>383_y</th>\n",
              "    </tr>\n",
              "  </thead>\n",
              "  <tbody>\n",
              "    <tr>\n",
              "      <th>1</th>\n",
              "      <td>0.749981250468738</td>\n",
              "      <td>0.599988000239995</td>\n",
              "      <td>0.66664444518516</td>\n",
              "      <td>0.499987500312492</td>\n",
              "      <td>0.624992187597655</td>\n",
              "      <td>0.624992187597655</td>\n",
              "      <td>1.0</td>\n",
              "      <td>0.0</td>\n",
              "      <td>0.0</td>\n",
              "      <td>8.0</td>\n",
              "      <td>77</td>\n",
              "      <td>70</td>\n",
              "      <td>74</td>\n",
              "      <td>75</td>\n",
              "      <td>0.444444444444444</td>\n",
              "      <td>2</td>\n",
              "      <td>1</td>\n",
              "      <td>44</td>\n",
              "      <td>44</td>\n",
              "      <td>8</td>\n",
              "      <td>8</td>\n",
              "      <td>5.0</td>\n",
              "      <td>16.0</td>\n",
              "      <td>0.3125</td>\n",
              "      <td>3</td>\n",
              "      <td>1</td>\n",
              "      <td>25.4754915237427</td>\n",
              "      <td>52.5640225410461</td>\n",
              "      <td>22.1941332817078</td>\n",
              "      <td>68.958610534668</td>\n",
              "      <td>-62.4405934512615</td>\n",
              "      <td>136.923661231995</td>\n",
              "      <td>-37.2705837488174</td>\n",
              "      <td>-46.3714381456375</td>\n",
              "      <td>68.9319767951965</td>\n",
              "      <td>45.2715266942978</td>\n",
              "      <td>-27.6045940071344</td>\n",
              "      <td>-6.16649609804153</td>\n",
              "      <td>30.3050733804703</td>\n",
              "      <td>-15.5390149652958</td>\n",
              "      <td>...</td>\n",
              "      <td>-7.82902674376965</td>\n",
              "      <td>-1.34679527580738</td>\n",
              "      <td>-19.4004074335098</td>\n",
              "      <td>5.84817832708359</td>\n",
              "      <td>10.4192896187305</td>\n",
              "      <td>-8.5412220954895</td>\n",
              "      <td>-8.49934300780296</td>\n",
              "      <td>-4.82283520698547</td>\n",
              "      <td>-13.9718668237329</td>\n",
              "      <td>0.833172559738159</td>\n",
              "      <td>6.79173815250397</td>\n",
              "      <td>-1.86661857366562</td>\n",
              "      <td>-9.64889603853226</td>\n",
              "      <td>-16.533147662878</td>\n",
              "      <td>-14.0897743776441</td>\n",
              "      <td>-18.0550724864006</td>\n",
              "      <td>-6.029852849897</td>\n",
              "      <td>9.48231381177902</td>\n",
              "      <td>7.6027694568038</td>\n",
              "      <td>11.7562728822231</td>\n",
              "      <td>-22.1896774768829</td>\n",
              "      <td>-12.3938915580511</td>\n",
              "      <td>0.418213307857513</td>\n",
              "      <td>-10.2752439379692</td>\n",
              "      <td>17.0280282869935</td>\n",
              "      <td>-0.14613226801157</td>\n",
              "      <td>-6.96817338466644</td>\n",
              "      <td>0.696077972650528</td>\n",
              "      <td>0.96743880957365</td>\n",
              "      <td>-13.8837376832962</td>\n",
              "      <td>6.07283478975296</td>\n",
              "      <td>3.94576223939657</td>\n",
              "      <td>-2.34925481677055</td>\n",
              "      <td>-1.94035038352013</td>\n",
              "      <td>11.1480661630631</td>\n",
              "      <td>6.86401489377022</td>\n",
              "      <td>-7.25256296247244</td>\n",
              "      <td>-2.31235059746541</td>\n",
              "      <td>8.59997269511223</td>\n",
              "      <td>-2.34981189668179</td>\n",
              "    </tr>\n",
              "    <tr>\n",
              "      <th>2</th>\n",
              "      <td>0.499993750078124</td>\n",
              "      <td>0.363633057881292</td>\n",
              "      <td>0.199996000079998</td>\n",
              "      <td>0.199996000079998</td>\n",
              "      <td>0.384612426058261</td>\n",
              "      <td>0.312498046887207</td>\n",
              "      <td>0.0</td>\n",
              "      <td>0.0</td>\n",
              "      <td>3.0</td>\n",
              "      <td>14.5</td>\n",
              "      <td>55</td>\n",
              "      <td>47</td>\n",
              "      <td>55</td>\n",
              "      <td>58</td>\n",
              "      <td>0.222222222222222</td>\n",
              "      <td>3</td>\n",
              "      <td>1</td>\n",
              "      <td>71</td>\n",
              "      <td>93</td>\n",
              "      <td>12</td>\n",
              "      <td>14</td>\n",
              "      <td>3.0</td>\n",
              "      <td>26.0</td>\n",
              "      <td>0.115384615384615</td>\n",
              "      <td>4</td>\n",
              "      <td>2</td>\n",
              "      <td>-6.63775181770325</td>\n",
              "      <td>112.013537883759</td>\n",
              "      <td>100.348403874785</td>\n",
              "      <td>58.2709927558899</td>\n",
              "      <td>-59.5866441726685</td>\n",
              "      <td>67.6555398404598</td>\n",
              "      <td>-148.126813523471</td>\n",
              "      <td>-39.774905204773</td>\n",
              "      <td>107.212060362101</td>\n",
              "      <td>1.86482986807823</td>\n",
              "      <td>48.4872194677591</td>\n",
              "      <td>-31.501708984375</td>\n",
              "      <td>22.4119604378939</td>\n",
              "      <td>-91.3963327929378</td>\n",
              "      <td>...</td>\n",
              "      <td>-3.45523419976234</td>\n",
              "      <td>-10.4227205812931</td>\n",
              "      <td>-7.76655316352844</td>\n",
              "      <td>3.06097537279129</td>\n",
              "      <td>27.3845646753907</td>\n",
              "      <td>3.63290356844664</td>\n",
              "      <td>-6.68530507013202</td>\n",
              "      <td>6.25570027530193</td>\n",
              "      <td>-6.47280583158135</td>\n",
              "      <td>-3.53505807369947</td>\n",
              "      <td>0.284096598625183</td>\n",
              "      <td>-12.107250019908</td>\n",
              "      <td>-0.309181660413742</td>\n",
              "      <td>-13.4865239113569</td>\n",
              "      <td>-15.3531118109822</td>\n",
              "      <td>-23.4269938319921</td>\n",
              "      <td>-22.1515202540904</td>\n",
              "      <td>1.6874559931457</td>\n",
              "      <td>28.045479407534</td>\n",
              "      <td>14.2584573850036</td>\n",
              "      <td>-38.7498054504395</td>\n",
              "      <td>-10.1854453384876</td>\n",
              "      <td>-3.90041975304484</td>\n",
              "      <td>-21.270471572876</td>\n",
              "      <td>31.824136942625</td>\n",
              "      <td>16.7140339910984</td>\n",
              "      <td>-1.35650136321783</td>\n",
              "      <td>-8.42828047275543</td>\n",
              "      <td>-4.4294755011797</td>\n",
              "      <td>0.378451824188232</td>\n",
              "      <td>1.5710833966732</td>\n",
              "      <td>12.2655541300774</td>\n",
              "      <td>17.877452686429</td>\n",
              "      <td>-0.401954144239426</td>\n",
              "      <td>27.6914076507091</td>\n",
              "      <td>4.67109155654907</td>\n",
              "      <td>-18.2398191182874</td>\n",
              "      <td>-14.1957719624043</td>\n",
              "      <td>-4.17320977151394</td>\n",
              "      <td>7.38230091310106</td>\n",
              "    </tr>\n",
              "    <tr>\n",
              "      <th>3</th>\n",
              "      <td>0.833319444675922</td>\n",
              "      <td>0.833319444675922</td>\n",
              "      <td>0.999980000399992</td>\n",
              "      <td>0.714275510349852</td>\n",
              "      <td>0.833326388946759</td>\n",
              "      <td>0.666662222251852</td>\n",
              "      <td>1.0</td>\n",
              "      <td>1.0</td>\n",
              "      <td>3.0</td>\n",
              "      <td>13.5</td>\n",
              "      <td>92</td>\n",
              "      <td>90</td>\n",
              "      <td>77</td>\n",
              "      <td>68</td>\n",
              "      <td>0.291666666666667</td>\n",
              "      <td>1</td>\n",
              "      <td>1</td>\n",
              "      <td>71</td>\n",
              "      <td>86</td>\n",
              "      <td>12</td>\n",
              "      <td>15</td>\n",
              "      <td>10.0</td>\n",
              "      <td>24.0</td>\n",
              "      <td>0.416666666666667</td>\n",
              "      <td>2</td>\n",
              "      <td>0</td>\n",
              "      <td>26.3196866512299</td>\n",
              "      <td>-13.1051012277603</td>\n",
              "      <td>-33.9943407028913</td>\n",
              "      <td>155.069097399712</td>\n",
              "      <td>2.5570102930069</td>\n",
              "      <td>-46.379879206419</td>\n",
              "      <td>-92.0505363941193</td>\n",
              "      <td>28.2020900249481</td>\n",
              "      <td>100.238258411933</td>\n",
              "      <td>-9.51861268281937</td>\n",
              "      <td>-0.412455081939697</td>\n",
              "      <td>-55.1736831665039</td>\n",
              "      <td>48.5085122585297</td>\n",
              "      <td>-14.0969917178154</td>\n",
              "      <td>...</td>\n",
              "      <td>-16.8808220140636</td>\n",
              "      <td>-0.491260316222906</td>\n",
              "      <td>-20.5144978165627</td>\n",
              "      <td>24.5416049435735</td>\n",
              "      <td>27.9918703995645</td>\n",
              "      <td>-6.54464172478765</td>\n",
              "      <td>-24.2067651152611</td>\n",
              "      <td>5.78575835749507</td>\n",
              "      <td>-14.0327959060669</td>\n",
              "      <td>-2.05526939965784</td>\n",
              "      <td>10.4359120726585</td>\n",
              "      <td>-27.7256251573563</td>\n",
              "      <td>-14.0624595284462</td>\n",
              "      <td>-31.1757815517485</td>\n",
              "      <td>-1.69677931442857</td>\n",
              "      <td>-41.2837265357375</td>\n",
              "      <td>-20.9498490169644</td>\n",
              "      <td>35.9891198668629</td>\n",
              "      <td>19.8259057477117</td>\n",
              "      <td>10.2647218480706</td>\n",
              "      <td>-34.2238249331713</td>\n",
              "      <td>-8.79816683009267</td>\n",
              "      <td>-2.10419537872076</td>\n",
              "      <td>-3.97667983546853</td>\n",
              "      <td>31.4609960466623</td>\n",
              "      <td>13.6399600245059</td>\n",
              "      <td>-8.78710390627384</td>\n",
              "      <td>15.6001325771213</td>\n",
              "      <td>2.02567293122411</td>\n",
              "      <td>0.625580949708819</td>\n",
              "      <td>22.083042498678</td>\n",
              "      <td>3.40181794017553</td>\n",
              "      <td>-4.76048275642097</td>\n",
              "      <td>0.0782414525747299</td>\n",
              "      <td>-1.82294281572104</td>\n",
              "      <td>12.3087745010853</td>\n",
              "      <td>-7.57902439124882</td>\n",
              "      <td>12.5527933938429</td>\n",
              "      <td>14.9377393946052</td>\n",
              "      <td>9.84671472012997</td>\n",
              "    </tr>\n",
              "    <tr>\n",
              "      <th>4</th>\n",
              "      <td>0.33332222259258</td>\n",
              "      <td>0.249993750156246</td>\n",
              "      <td>0.0</td>\n",
              "      <td>0.0</td>\n",
              "      <td>0.124998437519531</td>\n",
              "      <td>0.090908264470323</td>\n",
              "      <td>0.0</td>\n",
              "      <td>0.0</td>\n",
              "      <td>3.0</td>\n",
              "      <td>9.5</td>\n",
              "      <td>37</td>\n",
              "      <td>36</td>\n",
              "      <td>35</td>\n",
              "      <td>44</td>\n",
              "      <td>0.125</td>\n",
              "      <td>1</td>\n",
              "      <td>1</td>\n",
              "      <td>39</td>\n",
              "      <td>51</td>\n",
              "      <td>8</td>\n",
              "      <td>10</td>\n",
              "      <td>0.0</td>\n",
              "      <td>18.0</td>\n",
              "      <td>0.0</td>\n",
              "      <td>2</td>\n",
              "      <td>0</td>\n",
              "      <td>-71.6474561095238</td>\n",
              "      <td>51.1153224110603</td>\n",
              "      <td>24.7892812490463</td>\n",
              "      <td>33.8650679588318</td>\n",
              "      <td>-30.9094618558884</td>\n",
              "      <td>19.0417519807816</td>\n",
              "      <td>-46.0997605323792</td>\n",
              "      <td>-39.0144511461258</td>\n",
              "      <td>53.5270636081696</td>\n",
              "      <td>-12.7106754183769</td>\n",
              "      <td>-26.7108032107353</td>\n",
              "      <td>-43.9152398109436</td>\n",
              "      <td>7.34311184287071</td>\n",
              "      <td>-42.1082091331482</td>\n",
              "      <td>...</td>\n",
              "      <td>-18.5374019499868</td>\n",
              "      <td>13.3080826476216</td>\n",
              "      <td>-11.0927655845881</td>\n",
              "      <td>10.719881772995</td>\n",
              "      <td>20.8912345096469</td>\n",
              "      <td>1.1232568025589</td>\n",
              "      <td>-13.5832662321627</td>\n",
              "      <td>8.80642820894718</td>\n",
              "      <td>-7.11893528699875</td>\n",
              "      <td>-2.15530613064766</td>\n",
              "      <td>9.68946745991707</td>\n",
              "      <td>-26.8219832777977</td>\n",
              "      <td>-20.1199600994587</td>\n",
              "      <td>-24.7898506289348</td>\n",
              "      <td>-15.3953851461411</td>\n",
              "      <td>-25.3688628673553</td>\n",
              "      <td>-5.28546904027462</td>\n",
              "      <td>17.2498187273741</td>\n",
              "      <td>12.4996659122407</td>\n",
              "      <td>11.2295437026769</td>\n",
              "      <td>-14.5820899605751</td>\n",
              "      <td>-5.1765114068985</td>\n",
              "      <td>2.7175028026104</td>\n",
              "      <td>0.092587798833847</td>\n",
              "      <td>22.840398311615</td>\n",
              "      <td>12.2587779052556</td>\n",
              "      <td>-14.0344822183251</td>\n",
              "      <td>13.8005479797721</td>\n",
              "      <td>-15.4258512109518</td>\n",
              "      <td>-10.0235683568753</td>\n",
              "      <td>5.26850545406342</td>\n",
              "      <td>19.4441306591034</td>\n",
              "      <td>-0.413815416395664</td>\n",
              "      <td>-3.18579682800919</td>\n",
              "      <td>14.2126130573452</td>\n",
              "      <td>5.65243989229202</td>\n",
              "      <td>-13.1894551515579</td>\n",
              "      <td>-5.67925506830215</td>\n",
              "      <td>11.6790371537209</td>\n",
              "      <td>-9.89621244929731</td>\n",
              "    </tr>\n",
              "    <tr>\n",
              "      <th>5</th>\n",
              "      <td>0.999966667777741</td>\n",
              "      <td>0.749981250468738</td>\n",
              "      <td>0.799984000319994</td>\n",
              "      <td>0.666655555740738</td>\n",
              "      <td>0.874989062636717</td>\n",
              "      <td>0.699993000069999</td>\n",
              "      <td>0.0</td>\n",
              "      <td>1.0</td>\n",
              "      <td>2.0</td>\n",
              "      <td>9.0</td>\n",
              "      <td>93</td>\n",
              "      <td>78</td>\n",
              "      <td>60</td>\n",
              "      <td>64</td>\n",
              "      <td>0.2</td>\n",
              "      <td>1</td>\n",
              "      <td>1</td>\n",
              "      <td>50</td>\n",
              "      <td>39</td>\n",
              "      <td>10</td>\n",
              "      <td>8</td>\n",
              "      <td>6.0</td>\n",
              "      <td>18.0</td>\n",
              "      <td>0.333333333333333</td>\n",
              "      <td>2</td>\n",
              "      <td>0</td>\n",
              "      <td>-8.51860415935516</td>\n",
              "      <td>116.194160401821</td>\n",
              "      <td>95.4994565695524</td>\n",
              "      <td>91.8515675067902</td>\n",
              "      <td>5.18689849972725</td>\n",
              "      <td>-3.41724002361298</td>\n",
              "      <td>-53.3149665594101</td>\n",
              "      <td>-85.1052222251892</td>\n",
              "      <td>64.4977216422558</td>\n",
              "      <td>-56.9875470399857</td>\n",
              "      <td>-72.4729309082031</td>\n",
              "      <td>-7.72634410858154</td>\n",
              "      <td>-36.1603374481201</td>\n",
              "      <td>-19.3342289328575</td>\n",
              "      <td>...</td>\n",
              "      <td>-8.62889118492603</td>\n",
              "      <td>-12.3029685765505</td>\n",
              "      <td>10.7199559733272</td>\n",
              "      <td>6.09578064084053</td>\n",
              "      <td>7.16655000299215</td>\n",
              "      <td>-14.5914911702275</td>\n",
              "      <td>-11.9121635556221</td>\n",
              "      <td>3.87339996546507</td>\n",
              "      <td>-20.0803257226944</td>\n",
              "      <td>-2.96810664236546</td>\n",
              "      <td>10.1536550521851</td>\n",
              "      <td>7.62087908387184</td>\n",
              "      <td>1.6324770450592</td>\n",
              "      <td>-6.68117604870349</td>\n",
              "      <td>-5.56583748012781</td>\n",
              "      <td>-8.70799910277128</td>\n",
              "      <td>-12.9165939390659</td>\n",
              "      <td>-6.04647731035948</td>\n",
              "      <td>10.451057523489</td>\n",
              "      <td>10.2130043073557</td>\n",
              "      <td>-13.9815985560417</td>\n",
              "      <td>2.81865617632866</td>\n",
              "      <td>-4.67950713261962</td>\n",
              "      <td>-0.573849588632584</td>\n",
              "      <td>-1.10911947488785</td>\n",
              "      <td>5.82392464578152</td>\n",
              "      <td>-11.1198349007173</td>\n",
              "      <td>4.7329802904278</td>\n",
              "      <td>2.6868802011013</td>\n",
              "      <td>-11.933436870575</td>\n",
              "      <td>-15.1192277576774</td>\n",
              "      <td>-7.00912791490555</td>\n",
              "      <td>14.4896848974749</td>\n",
              "      <td>4.50370746850967</td>\n",
              "      <td>-5.27223194390535</td>\n",
              "      <td>3.53701122105122</td>\n",
              "      <td>-13.415627501905</td>\n",
              "      <td>9.59385965019465</td>\n",
              "      <td>-3.74228819459677</td>\n",
              "      <td>-4.29270762950182</td>\n",
              "    </tr>\n",
              "  </tbody>\n",
              "</table>\n",
              "<p>5 rows × 794 columns</p>\n",
              "</div>"
            ],
            "text/plain": [
              "             cwc_min            cwc_max  ...              382_y              383_y\n",
              "1  0.749981250468738  0.599988000239995  ...   8.59997269511223  -2.34981189668179\n",
              "2  0.499993750078124  0.363633057881292  ...  -4.17320977151394   7.38230091310106\n",
              "3  0.833319444675922  0.833319444675922  ...   14.9377393946052   9.84671472012997\n",
              "4   0.33332222259258  0.249993750156246  ...   11.6790371537209  -9.89621244929731\n",
              "5  0.999966667777741  0.749981250468738  ...  -3.74228819459677  -4.29270762950182\n",
              "\n",
              "[5 rows x 794 columns]"
            ]
          },
          "metadata": {
            "tags": []
          },
          "execution_count": 19
        }
      ]
    },
    {
      "cell_type": "markdown",
      "metadata": {
        "id": "KaWHDzqUtASD"
      },
      "source": [
        "<h2> 4.2 Converting strings to numerics </h2>"
      ]
    },
    {
      "cell_type": "code",
      "metadata": {
        "id": "iLV60gkptASD",
        "colab": {
          "base_uri": "https://localhost:8080/"
        },
        "outputId": "3191d9ff-365b-4bee-b8f0-bfa4f9d8cafa"
      },
      "source": [
        "# after we read from sql table each entry was read it as a string\n",
        "# we convert all the features into numaric before we apply any model\n",
        "cols = list(data.columns)\n",
        "for i in cols:\n",
        "    data[i] = data[i].apply(pd.to_numeric)\n",
        "    print(i)"
      ],
      "execution_count": null,
      "outputs": [
        {
          "output_type": "stream",
          "text": [
            "cwc_min\n",
            "cwc_max\n",
            "csc_min\n",
            "csc_max\n",
            "ctc_min\n",
            "ctc_max\n",
            "last_word_eq\n",
            "first_word_eq\n",
            "abs_len_diff\n",
            "mean_len\n",
            "token_set_ratio\n",
            "token_sort_ratio\n",
            "fuzz_ratio\n",
            "fuzz_partial_ratio\n",
            "longest_substr_ratio\n",
            "freq_qid1\n",
            "freq_qid2\n",
            "q1len\n",
            "q2len\n",
            "q1_n_words\n",
            "q2_n_words\n",
            "word_Common\n",
            "word_Total\n",
            "word_share\n",
            "freq_q1+q2\n",
            "freq_q1-q2\n",
            "0_x\n",
            "1_x\n",
            "2_x\n",
            "3_x\n",
            "4_x\n",
            "5_x\n",
            "6_x\n",
            "7_x\n",
            "8_x\n",
            "9_x\n",
            "10_x\n",
            "11_x\n",
            "12_x\n",
            "13_x\n",
            "14_x\n",
            "15_x\n",
            "16_x\n",
            "17_x\n",
            "18_x\n",
            "19_x\n",
            "20_x\n",
            "21_x\n",
            "22_x\n",
            "23_x\n",
            "24_x\n",
            "25_x\n",
            "26_x\n",
            "27_x\n",
            "28_x\n",
            "29_x\n",
            "30_x\n",
            "31_x\n",
            "32_x\n",
            "33_x\n",
            "34_x\n",
            "35_x\n",
            "36_x\n",
            "37_x\n",
            "38_x\n",
            "39_x\n",
            "40_x\n",
            "41_x\n",
            "42_x\n",
            "43_x\n",
            "44_x\n",
            "45_x\n",
            "46_x\n",
            "47_x\n",
            "48_x\n",
            "49_x\n",
            "50_x\n",
            "51_x\n",
            "52_x\n",
            "53_x\n",
            "54_x\n",
            "55_x\n",
            "56_x\n",
            "57_x\n",
            "58_x\n",
            "59_x\n",
            "60_x\n",
            "61_x\n",
            "62_x\n",
            "63_x\n",
            "64_x\n",
            "65_x\n",
            "66_x\n",
            "67_x\n",
            "68_x\n",
            "69_x\n",
            "70_x\n",
            "71_x\n",
            "72_x\n",
            "73_x\n",
            "74_x\n",
            "75_x\n",
            "76_x\n",
            "77_x\n",
            "78_x\n",
            "79_x\n",
            "80_x\n",
            "81_x\n",
            "82_x\n",
            "83_x\n",
            "84_x\n",
            "85_x\n",
            "86_x\n",
            "87_x\n",
            "88_x\n",
            "89_x\n",
            "90_x\n",
            "91_x\n",
            "92_x\n",
            "93_x\n",
            "94_x\n",
            "95_x\n",
            "96_x\n",
            "97_x\n",
            "98_x\n",
            "99_x\n",
            "100_x\n",
            "101_x\n",
            "102_x\n",
            "103_x\n"
          ],
          "name": "stdout"
        }
      ]
    },
    {
      "cell_type": "code",
      "metadata": {
        "id": "_LpfQwc9tASJ"
      },
      "source": [
        "# https://stackoverflow.com/questions/7368789/convert-all-strings-in-a-list-to-int\n",
        "y_true = list(map(int, y_true.values))"
      ],
      "execution_count": null,
      "outputs": []
    },
    {
      "cell_type": "markdown",
      "metadata": {
        "id": "CuMTqWGutASO"
      },
      "source": [
        "<h2> 4.3 Random train test split( 70:30) </h2>"
      ]
    },
    {
      "cell_type": "code",
      "metadata": {
        "id": "3Rat2obGtASP"
      },
      "source": [
        "X_train,X_test, y_train, y_test = train_test_split(data, y_true, stratify=y_true, test_size=0.3)"
      ],
      "execution_count": null,
      "outputs": []
    },
    {
      "cell_type": "code",
      "metadata": {
        "id": "gzvM9KDKz5VT"
      },
      "source": [
        "import pickle   \r\n",
        "%cd /content/drive/MyDrive/Quora Data\r\n",
        "\r\n",
        "##save all your results to disk so that, no need to run all again. \r\n",
        "pickle.dump((X_train y_train),open('train_data.pkl','wb'))\r\n",
        "pickle.dump((X_test, y_test),open('test_data.pkl','wb'))\r\n",
        "\r\n",
        "#you can load from disk\r\n",
        "X_train, y_train = pickle.load(open(\"train_data.pkl\", 'rb')) \r\n",
        "X_test, y_test = pickle.load(open(\"test_data.pkl\", 'rb')) "
      ],
      "execution_count": null,
      "outputs": []
    },
    {
      "cell_type": "code",
      "metadata": {
        "id": "1Iw9zCHqtASS",
        "outputId": "910b684b-0876-4dd8-e0d9-457846236833"
      },
      "source": [
        "print(\"Number of data points in train data :\",X_train.shape)\n",
        "print(\"Number of data points in test data :\",X_test.shape)"
      ],
      "execution_count": null,
      "outputs": [
        {
          "output_type": "stream",
          "text": [
            "Number of data points in train data : (70000, 794)\n",
            "Number of data points in test data : (30000, 794)\n"
          ],
          "name": "stdout"
        }
      ]
    },
    {
      "cell_type": "code",
      "metadata": {
        "id": "0oDV15LJtASY",
        "outputId": "70a1e4eb-3f31-4f1e-a53b-ad972978505d"
      },
      "source": [
        "print(\"-\"*10, \"Distribution of output variable in train data\", \"-\"*10)\n",
        "train_distr = Counter(y_train)\n",
        "train_len = len(y_train)\n",
        "print(\"Class 0: \",int(train_distr[0])/train_len,\"Class 1: \", int(train_distr[1])/train_len)\n",
        "print(\"-\"*10, \"Distribution of output variable in train data\", \"-\"*10)\n",
        "test_distr = Counter(y_test)\n",
        "test_len = len(y_test)\n",
        "print(\"Class 0: \",int(test_distr[1])/test_len, \"Class 1: \",int(test_distr[1])/test_len)"
      ],
      "execution_count": null,
      "outputs": [
        {
          "output_type": "stream",
          "text": [
            "---------- Distribution of output variable in train data ----------\n",
            "Class 0:  0.6324857142857143 Class 1:  0.36751428571428574\n",
            "---------- Distribution of output variable in train data ----------\n",
            "Class 0:  0.3675 Class 1:  0.3675\n"
          ],
          "name": "stdout"
        }
      ]
    },
    {
      "cell_type": "code",
      "metadata": {
        "id": "XfxcPT6jtASg"
      },
      "source": [
        "# This function plots the confusion matrices given y_i, y_i_hat.\n",
        "def plot_confusion_matrix(test_y, predict_y):\n",
        "    C = confusion_matrix(test_y, predict_y)\n",
        "    # C = 9,9 matrix, each cell (i,j) represents number of points of class i are predicted class j\n",
        "    \n",
        "    A =(((C.T)/(C.sum(axis=1))).T)\n",
        "    #divid each element of the confusion matrix with the sum of elements in that column\n",
        "    \n",
        "    # C = [[1, 2],\n",
        "    #     [3, 4]]\n",
        "    # C.T = [[1, 3],\n",
        "    #        [2, 4]]\n",
        "    # C.sum(axis = 1)  axis=0 corresonds to columns and axis=1 corresponds to rows in two diamensional array\n",
        "    # C.sum(axix =1) = [[3, 7]]\n",
        "    # ((C.T)/(C.sum(axis=1))) = [[1/3, 3/7]\n",
        "    #                           [2/3, 4/7]]\n",
        "\n",
        "    # ((C.T)/(C.sum(axis=1))).T = [[1/3, 2/3]\n",
        "    #                           [3/7, 4/7]]\n",
        "    # sum of row elements = 1\n",
        "    \n",
        "    B =(C/C.sum(axis=0))\n",
        "    #divid each element of the confusion matrix with the sum of elements in that row\n",
        "    # C = [[1, 2],\n",
        "    #     [3, 4]]\n",
        "    # C.sum(axis = 0)  axis=0 corresonds to columns and axis=1 corresponds to rows in two diamensional array\n",
        "    # C.sum(axix =0) = [[4, 6]]\n",
        "    # (C/C.sum(axis=0)) = [[1/4, 2/6],\n",
        "    #                      [3/4, 4/6]] \n",
        "    plt.figure(figsize=(20,4))\n",
        "    \n",
        "    labels = [1,2]\n",
        "    # representing A in heatmap format\n",
        "    cmap=sns.light_palette(\"blue\")\n",
        "    plt.subplot(1, 3, 1)\n",
        "    sns.heatmap(C, annot=True, cmap=cmap, fmt=\".3f\", xticklabels=labels, yticklabels=labels)\n",
        "    plt.xlabel('Predicted Class')\n",
        "    plt.ylabel('Original Class')\n",
        "    plt.title(\"Confusion matrix\")\n",
        "    \n",
        "    plt.subplot(1, 3, 2)\n",
        "    sns.heatmap(B, annot=True, cmap=cmap, fmt=\".3f\", xticklabels=labels, yticklabels=labels)\n",
        "    plt.xlabel('Predicted Class')\n",
        "    plt.ylabel('Original Class')\n",
        "    plt.title(\"Precision matrix\")\n",
        "    \n",
        "    plt.subplot(1, 3, 3)\n",
        "    # representing B in heatmap format\n",
        "    sns.heatmap(A, annot=True, cmap=cmap, fmt=\".3f\", xticklabels=labels, yticklabels=labels)\n",
        "    plt.xlabel('Predicted Class')\n",
        "    plt.ylabel('Original Class')\n",
        "    plt.title(\"Recall matrix\")\n",
        "    \n",
        "    plt.show()"
      ],
      "execution_count": null,
      "outputs": []
    },
    {
      "cell_type": "markdown",
      "metadata": {
        "id": "UStQJ5F_tASk"
      },
      "source": [
        "<h2> 4.4 Building a random model (Finding worst-case log-loss) </h2>"
      ]
    },
    {
      "cell_type": "code",
      "metadata": {
        "id": "qwMDqcU7tASl",
        "outputId": "c1e90d53-25ec-445b-e33a-299538520e32"
      },
      "source": [
        "# we need to generate 9 numbers and the sum of numbers should be 1\n",
        "# one solution is to genarate 9 numbers and divide each of the numbers by their sum\n",
        "# ref: https://stackoverflow.com/a/18662466/4084039\n",
        "# we create a output array that has exactly same size as the CV data\n",
        "predicted_y = np.zeros((test_len,2))\n",
        "for i in range(test_len):\n",
        "    rand_probs = np.random.rand(1,2)\n",
        "    predicted_y[i] = ((rand_probs/sum(sum(rand_probs)))[0])\n",
        "print(\"Log loss on Test Data using Random Model\",log_loss(y_test, predicted_y, eps=1e-15))\n",
        "\n",
        "predicted_y =np.argmax(predicted_y, axis=1)\n",
        "plot_confusion_matrix(y_test, predicted_y)"
      ],
      "execution_count": null,
      "outputs": [
        {
          "output_type": "stream",
          "text": [
            "Log loss on Test Data using Random Model 0.887242646958\n"
          ],
          "name": "stdout"
        },
        {
          "output_type": "display_data",
          "data": {
            "image/png": "[encoded data removed]",
            "text/plain": [
              "<matplotlib.figure.Figure at 0x2567c619c18>"
            ]
          },
          "metadata": {
            "tags": []
          }
        }
      ]
    },
    {
      "cell_type": "markdown",
      "metadata": {
        "id": "YgY29g_qtASq"
      },
      "source": [
        "<h2> 4.4 Logistic Regression with hyperparameter tuning </h2>"
      ]
    },
    {
      "cell_type": "code",
      "metadata": {
        "id": "Wb2tOE3GtASr",
        "outputId": "d7e4fc88-7d4e-4313-cda7-462a2409292e"
      },
      "source": [
        "alpha = [10 ** x for x in range(-5, 2)] # hyperparam for SGD classifier.\n",
        "\n",
        "log_error_array=[]\n",
        "for i in alpha:\n",
        "    clf = SGDClassifier(alpha=i, penalty='l2', loss='log', random_state=42)\n",
        "    clf.fit(X_train, y_train)\n",
        "    sig_clf = CalibratedClassifierCV(clf, method=\"sigmoid\")\n",
        "    sig_clf.fit(X_train, y_train)\n",
        "    predict_y = sig_clf.predict_proba(X_test)\n",
        "    log_error_array.append(log_loss(y_test, predict_y, labels=clf.classes_, eps=1e-15))\n",
        "    print('For values of alpha = ', i, \"The log loss is:\",log_loss(y_test, predict_y, labels=clf.classes_, eps=1e-15))\n",
        "\n",
        "fig, ax = plt.subplots()\n",
        "ax.plot(alpha, log_error_array,c='g')\n",
        "for i, txt in enumerate(np.round(log_error_array,3)):\n",
        "    ax.annotate((alpha[i],np.round(txt,3)), (alpha[i],log_error_array[i]))\n",
        "plt.grid()\n",
        "plt.title(\"Cross Validation Error for each alpha\")\n",
        "plt.xlabel(\"Alpha i's\")\n",
        "plt.ylabel(\"Error measure\")\n",
        "plt.show()\n",
        "\n",
        "\n",
        "best_alpha = np.argmin(log_error_array)\n",
        "clf = SGDClassifier(alpha=alpha[best_alpha], penalty='l2', loss='log', random_state=42)\n",
        "clf.fit(X_train, y_train)\n",
        "sig_clf = CalibratedClassifierCV(clf, method=\"sigmoid\")\n",
        "sig_clf.fit(X_train, y_train)\n",
        "\n",
        "predict_y = sig_clf.predict_proba(X_train)\n",
        "print('For values of best alpha = ', alpha[best_alpha], \"The train log loss is:\",log_loss(y_train, predict_y, labels=clf.classes_, eps=1e-15))\n",
        "predict_y = sig_clf.predict_proba(X_test)\n",
        "print('For values of best alpha = ', alpha[best_alpha], \"The test log loss is:\",log_loss(y_test, predict_y, labels=clf.classes_, eps=1e-15))\n",
        "predicted_y =np.argmax(predict_y,axis=1)\n",
        "print(\"Total number of data points :\", len(predicted_y))\n",
        "plot_confusion_matrix(y_test, predicted_y)"
      ],
      "execution_count": null,
      "outputs": [
        {
          "output_type": "stream",
          "text": [
            "For values of alpha =  1e-05 The log loss is: 0.592800211149\n",
            "For values of alpha =  0.0001 The log loss is: 0.532351700629\n",
            "For values of alpha =  0.001 The log loss is: 0.527562275995\n",
            "For values of alpha =  0.01 The log loss is: 0.534535408885\n",
            "For values of alpha =  0.1 The log loss is: 0.525117052926\n",
            "For values of alpha =  1 The log loss is: 0.520035530431\n",
            "For values of alpha =  10 The log loss is: 0.521097925307\n"
          ],
          "name": "stdout"
        },
        {
          "output_type": "display_data",
          "data": {
            "image/png": "[encoded data removed]",
            "text/plain": [
              "<matplotlib.figure.Figure at 0x25667090eb8>"
            ]
          },
          "metadata": {
            "tags": []
          }
        },
        {
          "output_type": "stream",
          "text": [
            "For values of best alpha =  1 The train log loss is: 0.513842874233\n",
            "For values of best alpha =  1 The test log loss is: 0.520035530431\n",
            "Total number of data points : 30000\n"
          ],
          "name": "stdout"
        },
        {
          "output_type": "display_data",
          "data": {
            "image/png": "[encoded data removed]",
            "text/plain": [
              "<matplotlib.figure.Figure at 0x256793c19b0>"
            ]
          },
          "metadata": {
            "tags": []
          }
        }
      ]
    },
    {
      "cell_type": "code",
      "metadata": {
        "id": "qGBHpXZR3TuV"
      },
      "source": [
        ""
      ],
      "execution_count": null,
      "outputs": []
    },
    {
      "cell_type": "code",
      "metadata": {
        "id": "N3z0u4II3Tq0"
      },
      "source": [
        "# Save the trained model as a pickle string. \r\n",
        "%cd /content/drive/MyDrive/Quora Data\r\n",
        "\r\n",
        "logistic_regression = pickle.dumps(clf) \r\n",
        "  \r\n",
        "# Load the pickled model \r\n",
        "#logistic_regression = pickle.loads(logistic_regression) \r\n",
        "  \r\n",
        "# Use the loaded pickled model to make predictions \r\n",
        "#logistic_regression.predict(X_test) "
      ],
      "execution_count": null,
      "outputs": []
    },
    {
      "cell_type": "code",
      "metadata": {
        "id": "QOz-l2UN3Tmr"
      },
      "source": [
        ""
      ],
      "execution_count": null,
      "outputs": []
    },
    {
      "cell_type": "code",
      "metadata": {
        "id": "7L0UcWMI3TYP"
      },
      "source": [
        ""
      ],
      "execution_count": null,
      "outputs": []
    }
  ]
}
{
  "nbformat": 4,
  "nbformat_minor": 0,
  "metadata": {
    "colab": {
      "name": "7_ML_modelsXGBOOST.ipynb",
      "provenance": [],
      "collapsed_sections": []
    },
    "kernelspec": {
      "display_name": "Python 3",
      "language": "python",
      "name": "python3"
    }
  },
  "cells": [
    {
      "cell_type": "code",
      "metadata": {
        "id": "6VXPfRp-tARR"
      },
      "source": [
        "import pandas as pd\n",
        "import matplotlib.pyplot as plt\n",
        "import re\n",
        "import time\n",
        "import warnings\n",
        "import sqlite3\n",
        "from sqlalchemy import create_engine # database connection\n",
        "import csv\n",
        "import os\n",
        "warnings.filterwarnings(\"ignore\")\n",
        "import datetime as dt\n",
        "import numpy as np\n",
        "from nltk.corpus import stopwords\n",
        "from sklearn.decomposition import TruncatedSVD\n",
        "from sklearn.preprocessing import normalize\n",
        "from sklearn.feature_extraction.text import CountVectorizer\n",
        "from sklearn.manifold import TSNE\n",
        "import seaborn as sns\n",
        "from sklearn.neighbors import KNeighborsClassifier\n",
        "from sklearn.metrics import confusion_matrix\n",
        "from sklearn.metrics.classification import accuracy_score, log_loss\n",
        "from sklearn.feature_extraction.text import TfidfVectorizer\n",
        "from collections import Counter\n",
        "from scipy.sparse import hstack\n",
        "from sklearn.multiclass import OneVsRestClassifier\n",
        "from sklearn.svm import SVC\n",
        "from sklearn.cross_validation import StratifiedKFold \n",
        "from collections import Counter, defaultdict\n",
        "from sklearn.calibration import CalibratedClassifierCV\n",
        "from sklearn.naive_bayes import MultinomialNB\n",
        "from sklearn.naive_bayes import GaussianNB\n",
        "from sklearn.model_selection import train_test_split\n",
        "from sklearn.model_selection import GridSearchCV\n",
        "import math\n",
        "from sklearn.metrics import normalized_mutual_info_score\n",
        "from sklearn.ensemble import RandomForestClassifier\n",
        "\n",
        "\n",
        "\n",
        "from sklearn.model_selection import cross_val_score\n",
        "from sklearn.linear_model import SGDClassifier\n",
        "from mlxtend.classifier import StackingClassifier\n",
        "\n",
        "from sklearn import model_selection\n",
        "from sklearn.linear_model import LogisticRegression\n",
        "from sklearn.metrics import precision_recall_curve, auc, roc_curve"
      ],
      "execution_count": null,
      "outputs": []
    },
    {
      "cell_type": "code",
      "metadata": {
        "id": "VqsvHiQU6pnv"
      },
      "source": [
        "##mount drive for data\r\n",
        "from google.colab import drive\r\n",
        "drive.mount('/content/drive')"
      ],
      "execution_count": null,
      "outputs": []
    },
    {
      "cell_type": "markdown",
      "metadata": {
        "id": "ZihvUPvHtARd"
      },
      "source": [
        "<h1>4. Machine Learning Models </h1>"
      ]
    },
    {
      "cell_type": "markdown",
      "metadata": {
        "id": "CuMTqWGutASO"
      },
      "source": [
        "<h2> 4.3 Random train test split( 70:30) </h2>"
      ]
    },
    {
      "cell_type": "code",
      "metadata": {
        "id": "3Rat2obGtASP"
      },
      "source": [
        "import pickle   \r\n",
        "%cd /content/drive/MyDrive/Quora Data\r\n",
        "\r\n",
        "##save all your results to disk so that, no need to run all again. \r\n",
        "#pickle.dump((X_train y_train),open('train_data.pkl','wb'))\r\n",
        "#pickle.dump((X_test, y_test),open('test_data.pkl','wb'))\r\n",
        "\r\n",
        "#you can load from disk\r\n",
        "X_train, y_train = pickle.load(open(\"train_data.pkl\", 'rb')) \r\n",
        "X_test, y_test = pickle.load(open(\"test_data.pkl\", 'rb')) "
      ],
      "execution_count": null,
      "outputs": []
    },
    {
      "cell_type": "code",
      "metadata": {
        "id": "1Iw9zCHqtASS",
        "outputId": "910b684b-0876-4dd8-e0d9-457846236833"
      },
      "source": [
        "print(\"Number of data points in train data :\",X_train.shape)\n",
        "print(\"Number of data points in test data :\",X_test.shape)"
      ],
      "execution_count": null,
      "outputs": [
        {
          "output_type": "stream",
          "text": [
            "Number of data points in train data : (70000, 794)\n",
            "Number of data points in test data : (30000, 794)\n"
          ],
          "name": "stdout"
        }
      ]
    },
    {
      "cell_type": "code",
      "metadata": {
        "id": "0oDV15LJtASY",
        "outputId": "70a1e4eb-3f31-4f1e-a53b-ad972978505d"
      },
      "source": [
        "print(\"-\"*10, \"Distribution of output variable in train data\", \"-\"*10)\n",
        "train_distr = Counter(y_train)\n",
        "train_len = len(y_train)\n",
        "print(\"Class 0: \",int(train_distr[0])/train_len,\"Class 1: \", int(train_distr[1])/train_len)\n",
        "print(\"-\"*10, \"Distribution of output variable in train data\", \"-\"*10)\n",
        "test_distr = Counter(y_test)\n",
        "test_len = len(y_test)\n",
        "print(\"Class 0: \",int(test_distr[1])/test_len, \"Class 1: \",int(test_distr[1])/test_len)"
      ],
      "execution_count": null,
      "outputs": [
        {
          "output_type": "stream",
          "text": [
            "---------- Distribution of output variable in train data ----------\n",
            "Class 0:  0.6324857142857143 Class 1:  0.36751428571428574\n",
            "---------- Distribution of output variable in train data ----------\n",
            "Class 0:  0.3675 Class 1:  0.3675\n"
          ],
          "name": "stdout"
        }
      ]
    },
    {
      "cell_type": "code",
      "metadata": {
        "id": "XfxcPT6jtASg"
      },
      "source": [
        "# This function plots the confusion matrices given y_i, y_i_hat.\n",
        "def plot_confusion_matrix(test_y, predict_y):\n",
        "    C = confusion_matrix(test_y, predict_y)\n",
        "    # C = 9,9 matrix, each cell (i,j) represents number of points of class i are predicted class j\n",
        "    \n",
        "    A =(((C.T)/(C.sum(axis=1))).T)\n",
        "    #divid each element of the confusion matrix with the sum of elements in that column\n",
        "    \n",
        "    # C = [[1, 2],\n",
        "    #     [3, 4]]\n",
        "    # C.T = [[1, 3],\n",
        "    #        [2, 4]]\n",
        "    # C.sum(axis = 1)  axis=0 corresonds to columns and axis=1 corresponds to rows in two diamensional array\n",
        "    # C.sum(axix =1) = [[3, 7]]\n",
        "    # ((C.T)/(C.sum(axis=1))) = [[1/3, 3/7]\n",
        "    #                           [2/3, 4/7]]\n",
        "\n",
        "    # ((C.T)/(C.sum(axis=1))).T = [[1/3, 2/3]\n",
        "    #                           [3/7, 4/7]]\n",
        "    # sum of row elements = 1\n",
        "    \n",
        "    B =(C/C.sum(axis=0))\n",
        "    #divid each element of the confusion matrix with the sum of elements in that row\n",
        "    # C = [[1, 2],\n",
        "    #     [3, 4]]\n",
        "    # C.sum(axis = 0)  axis=0 corresonds to columns and axis=1 corresponds to rows in two diamensional array\n",
        "    # C.sum(axix =0) = [[4, 6]]\n",
        "    # (C/C.sum(axis=0)) = [[1/4, 2/6],\n",
        "    #                      [3/4, 4/6]] \n",
        "    plt.figure(figsize=(20,4))\n",
        "    \n",
        "    labels = [1,2]\n",
        "    # representing A in heatmap format\n",
        "    cmap=sns.light_palette(\"blue\")\n",
        "    plt.subplot(1, 3, 1)\n",
        "    sns.heatmap(C, annot=True, cmap=cmap, fmt=\".3f\", xticklabels=labels, yticklabels=labels)\n",
        "    plt.xlabel('Predicted Class')\n",
        "    plt.ylabel('Original Class')\n",
        "    plt.title(\"Confusion matrix\")\n",
        "    \n",
        "    plt.subplot(1, 3, 2)\n",
        "    sns.heatmap(B, annot=True, cmap=cmap, fmt=\".3f\", xticklabels=labels, yticklabels=labels)\n",
        "    plt.xlabel('Predicted Class')\n",
        "    plt.ylabel('Original Class')\n",
        "    plt.title(\"Precision matrix\")\n",
        "    \n",
        "    plt.subplot(1, 3, 3)\n",
        "    # representing B in heatmap format\n",
        "    sns.heatmap(A, annot=True, cmap=cmap, fmt=\".3f\", xticklabels=labels, yticklabels=labels)\n",
        "    plt.xlabel('Predicted Class')\n",
        "    plt.ylabel('Original Class')\n",
        "    plt.title(\"Recall matrix\")\n",
        "    \n",
        "    plt.show()"
      ],
      "execution_count": null,
      "outputs": []
    },
    {
      "cell_type": "markdown",
      "metadata": {
        "id": "ZhTJgclztAS6"
      },
      "source": [
        "<h2> 4.6 XGBoost </h2>"
      ]
    },
    {
      "cell_type": "code",
      "metadata": {
        "id": "9U367-xetAS7",
        "outputId": "167e8588-2ac4-4c6d-ac22-f56a2fce5657"
      },
      "source": [
        "import xgboost as xgb\n",
        "params = {}\n",
        "params['objective'] = 'binary:logistic'\n",
        "params['eval_metric'] = 'logloss'\n",
        "params['eta'] = 0.02\n",
        "params['max_depth'] = 4\n",
        "\n",
        "d_train = xgb.DMatrix(X_train, label=y_train)\n",
        "d_test = xgb.DMatrix(X_test, label=y_test)\n",
        "\n",
        "watchlist = [(d_train, 'train'), (d_test, 'valid')]\n",
        "\n",
        "bst = xgb.train(params, d_train, 400, watchlist, early_stopping_rounds=20, verbose_eval=10)\n",
        "\n",
        "xgdmat = xgb.DMatrix(X_train,y_train)\n",
        "predict_y = bst.predict(d_test)\n",
        "print(\"The test log loss is:\",log_loss(y_test, predict_y, labels=clf.classes_, eps=1e-15))"
      ],
      "execution_count": null,
      "outputs": [
        {
          "output_type": "stream",
          "text": [
            "[0]\ttrain-logloss:0.684819\tvalid-logloss:0.684845\n",
            "Multiple eval metrics have been passed: 'valid-logloss' will be used for early stopping.\n",
            "\n",
            "Will train until valid-logloss hasn't improved in 20 rounds.\n",
            "[10]\ttrain-logloss:0.61583\tvalid-logloss:0.616104\n",
            "[20]\ttrain-logloss:0.564616\tvalid-logloss:0.565273\n",
            "[30]\ttrain-logloss:0.525758\tvalid-logloss:0.52679\n",
            "[40]\ttrain-logloss:0.496661\tvalid-logloss:0.498021\n",
            "[50]\ttrain-logloss:0.473563\tvalid-logloss:0.475182\n",
            "[60]\ttrain-logloss:0.455315\tvalid-logloss:0.457186\n",
            "[70]\ttrain-logloss:0.440442\tvalid-logloss:0.442482\n",
            "[80]\ttrain-logloss:0.428424\tvalid-logloss:0.430795\n",
            "[90]\ttrain-logloss:0.418803\tvalid-logloss:0.421447\n",
            "[100]\ttrain-logloss:0.41069\tvalid-logloss:0.413583\n",
            "[110]\ttrain-logloss:0.403831\tvalid-logloss:0.40693\n",
            "[120]\ttrain-logloss:0.398076\tvalid-logloss:0.401402\n",
            "[130]\ttrain-logloss:0.393305\tvalid-logloss:0.396851\n",
            "[140]\ttrain-logloss:0.38913\tvalid-logloss:0.392952\n",
            "[150]\ttrain-logloss:0.385469\tvalid-logloss:0.389521\n",
            "[160]\ttrain-logloss:0.382327\tvalid-logloss:0.386667\n",
            "[170]\ttrain-logloss:0.379541\tvalid-logloss:0.384148\n",
            "[180]\ttrain-logloss:0.377014\tvalid-logloss:0.381932\n",
            "[190]\ttrain-logloss:0.374687\tvalid-logloss:0.379883\n",
            "[200]\ttrain-logloss:0.372585\tvalid-logloss:0.378068\n",
            "[210]\ttrain-logloss:0.370615\tvalid-logloss:0.376367\n",
            "[220]\ttrain-logloss:0.368559\tvalid-logloss:0.374595\n",
            "[230]\ttrain-logloss:0.366545\tvalid-logloss:0.372847\n",
            "[240]\ttrain-logloss:0.364708\tvalid-logloss:0.371311\n",
            "[250]\ttrain-logloss:0.363021\tvalid-logloss:0.369886\n",
            "[260]\ttrain-logloss:0.36144\tvalid-logloss:0.368673\n",
            "[270]\ttrain-logloss:0.359899\tvalid-logloss:0.367421\n",
            "[280]\ttrain-logloss:0.358465\tvalid-logloss:0.366395\n",
            "[290]\ttrain-logloss:0.357128\tvalid-logloss:0.365361\n",
            "[300]\ttrain-logloss:0.355716\tvalid-logloss:0.364315\n",
            "[310]\ttrain-logloss:0.354425\tvalid-logloss:0.363403\n",
            "[320]\ttrain-logloss:0.353276\tvalid-logloss:0.362595\n",
            "[330]\ttrain-logloss:0.352084\tvalid-logloss:0.361823\n",
            "[340]\ttrain-logloss:0.351051\tvalid-logloss:0.361167\n",
            "[350]\ttrain-logloss:0.349867\tvalid-logloss:0.36043\n",
            "[360]\ttrain-logloss:0.348829\tvalid-logloss:0.359773\n",
            "[370]\ttrain-logloss:0.347689\tvalid-logloss:0.359019\n",
            "[380]\ttrain-logloss:0.346607\tvalid-logloss:0.358311\n",
            "[390]\ttrain-logloss:0.345568\tvalid-logloss:0.357674\n",
            "The test log loss is: 0.357054433715\n"
          ],
          "name": "stdout"
        }
      ]
    },
    {
      "cell_type": "code",
      "metadata": {
        "id": "6U5b17AatAS_",
        "outputId": "ca83b680-023b-4bc5-f499-8d8d85c2ff5e"
      },
      "source": [
        "predicted_y =np.array(predict_y>0.5,dtype=int)\n",
        "print(\"Total number of data points :\", len(predicted_y))\n",
        "plot_confusion_matrix(y_test, predicted_y)"
      ],
      "execution_count": null,
      "outputs": [
        {
          "output_type": "stream",
          "text": [
            "Total number of data points : 30000\n"
          ],
          "name": "stdout"
        },
        {
          "output_type": "display_data",
          "data": {
            "image/png": "[encoded data removed]",
            "text/plain": [
              "<matplotlib.figure.Figure at 0x2567e903cf8>"
            ]
          },
          "metadata": {
            "tags": []
          }
        }
      ]
    },
    {
      "cell_type": "code",
      "metadata": {
        "id": "3-llzFvr7EnR"
      },
      "source": [
        ""
      ],
      "execution_count": null,
      "outputs": []
    },
    {
      "cell_type": "code",
      "metadata": {
        "id": "MRfFtlcY7Ejv"
      },
      "source": [
        ""
      ],
      "execution_count": null,
      "outputs": []
    },
    {
      "cell_type": "code",
      "metadata": {
        "id": "Mk2Id8Uf7Ehh"
      },
      "source": [
        "# Save the trained model as a pickle string. \r\n",
        "%cd /content/drive/MyDrive/Quora Data\r\n",
        "\r\n",
        "bst = pickle.dumps(bst) "
      ],
      "execution_count": null,
      "outputs": []
    },
    {
      "cell_type": "code",
      "metadata": {
        "id": "3EkvisnS8Auk"
      },
      "source": [
        ""
      ],
      "execution_count": null,
      "outputs": []
    },
    {
      "cell_type": "code",
      "metadata": {
        "id": "yHJKUC5m8ArB"
      },
      "source": [
        ""
      ],
      "execution_count": null,
      "outputs": []
    }
  ]
}